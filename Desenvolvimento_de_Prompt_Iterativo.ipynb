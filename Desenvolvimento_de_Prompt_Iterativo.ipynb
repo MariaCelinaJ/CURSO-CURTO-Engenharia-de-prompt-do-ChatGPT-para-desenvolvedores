{
  "nbformat": 4,
  "nbformat_minor": 0,
  "metadata": {
    "colab": {
      "provenance": [],
      "authorship_tag": "ABX9TyMlfx/c6GpG9NlozMQMek2s",
      "include_colab_link": true
    },
    "kernelspec": {
      "name": "python3",
      "display_name": "Python 3"
    },
    "language_info": {
      "name": "python"
    }
  },
  "cells": [
    {
      "cell_type": "markdown",
      "metadata": {
        "id": "view-in-github",
        "colab_type": "text"
      },
      "source": [
        "<a href=\"https://colab.research.google.com/github/MariaCelinaJ/CURSO-Engenharia-de-prompt-do-ChatGPT-para-desenvolvedores/blob/main/Desenvolvimento_de_Prompt_Iterativo.ipynb\" target=\"_parent\"><img src=\"https://colab.research.google.com/assets/colab-badge.svg\" alt=\"Open In Colab\"/></a>"
      ]
    },
    {
      "cell_type": "markdown",
      "source": [
        "# Desenvolvimento de Prompt Iterativo\n",
        "Nesta sessão, iremos analisar e refinar iterativamente os prompts para gerar uma cópia de de uma ficha técnica de um produto de marketing .\n",
        "\n",
        "##### Configurar"
      ],
      "metadata": {
        "id": "sk45jfv5QaIi"
      }
    },
    {
      "cell_type": "code",
      "source": [
        "!pip install openai\n",
        "!pip install python-dotenv"
      ],
      "metadata": {
        "colab": {
          "base_uri": "https://localhost:8080/"
        },
        "id": "y1IMDP25PFeP",
        "outputId": "3a876116-a5f2-441f-e54a-6fc85cdd9436"
      },
      "execution_count": 5,
      "outputs": [
        {
          "output_type": "stream",
          "name": "stdout",
          "text": [
            "Looking in indexes: https://pypi.org/simple, https://us-python.pkg.dev/colab-wheels/public/simple/\n",
            "Collecting openai\n",
            "  Downloading openai-0.27.7-py3-none-any.whl (71 kB)\n",
            "\u001b[2K     \u001b[90m━━━━━━━━━━━━━━━━━━━━━━━━━━━━━━━━━━━━━━━━\u001b[0m \u001b[32m72.0/72.0 kB\u001b[0m \u001b[31m3.0 MB/s\u001b[0m eta \u001b[36m0:00:00\u001b[0m\n",
            "\u001b[?25hRequirement already satisfied: requests>=2.20 in /usr/local/lib/python3.10/dist-packages (from openai) (2.27.1)\n",
            "Requirement already satisfied: tqdm in /usr/local/lib/python3.10/dist-packages (from openai) (4.65.0)\n",
            "Collecting aiohttp (from openai)\n",
            "  Downloading aiohttp-3.8.4-cp310-cp310-manylinux_2_17_x86_64.manylinux2014_x86_64.whl (1.0 MB)\n",
            "\u001b[2K     \u001b[90m━━━━━━━━━━━━━━━━━━━━━━━━━━━━━━━━━━━━━━━━\u001b[0m \u001b[32m1.0/1.0 MB\u001b[0m \u001b[31m20.0 MB/s\u001b[0m eta \u001b[36m0:00:00\u001b[0m\n",
            "\u001b[?25hRequirement already satisfied: urllib3<1.27,>=1.21.1 in /usr/local/lib/python3.10/dist-packages (from requests>=2.20->openai) (1.26.15)\n",
            "Requirement already satisfied: certifi>=2017.4.17 in /usr/local/lib/python3.10/dist-packages (from requests>=2.20->openai) (2022.12.7)\n",
            "Requirement already satisfied: charset-normalizer~=2.0.0 in /usr/local/lib/python3.10/dist-packages (from requests>=2.20->openai) (2.0.12)\n",
            "Requirement already satisfied: idna<4,>=2.5 in /usr/local/lib/python3.10/dist-packages (from requests>=2.20->openai) (3.4)\n",
            "Requirement already satisfied: attrs>=17.3.0 in /usr/local/lib/python3.10/dist-packages (from aiohttp->openai) (23.1.0)\n",
            "Collecting multidict<7.0,>=4.5 (from aiohttp->openai)\n",
            "  Downloading multidict-6.0.4-cp310-cp310-manylinux_2_17_x86_64.manylinux2014_x86_64.whl (114 kB)\n",
            "\u001b[2K     \u001b[90m━━━━━━━━━━━━━━━━━━━━━━━━━━━━━━━━━━━━━━\u001b[0m \u001b[32m114.5/114.5 kB\u001b[0m \u001b[31m12.6 MB/s\u001b[0m eta \u001b[36m0:00:00\u001b[0m\n",
            "\u001b[?25hCollecting async-timeout<5.0,>=4.0.0a3 (from aiohttp->openai)\n",
            "  Downloading async_timeout-4.0.2-py3-none-any.whl (5.8 kB)\n",
            "Collecting yarl<2.0,>=1.0 (from aiohttp->openai)\n",
            "  Downloading yarl-1.9.2-cp310-cp310-manylinux_2_17_x86_64.manylinux2014_x86_64.whl (268 kB)\n",
            "\u001b[2K     \u001b[90m━━━━━━━━━━━━━━━━━━━━━━━━━━━━━━━━━━━━━━\u001b[0m \u001b[32m268.8/268.8 kB\u001b[0m \u001b[31m25.6 MB/s\u001b[0m eta \u001b[36m0:00:00\u001b[0m\n",
            "\u001b[?25hCollecting frozenlist>=1.1.1 (from aiohttp->openai)\n",
            "  Downloading frozenlist-1.3.3-cp310-cp310-manylinux_2_5_x86_64.manylinux1_x86_64.manylinux_2_17_x86_64.manylinux2014_x86_64.whl (149 kB)\n",
            "\u001b[2K     \u001b[90m━━━━━━━━━━━━━━━━━━━━━━━━━━━━━━━━━━━━━━\u001b[0m \u001b[32m149.6/149.6 kB\u001b[0m \u001b[31m14.5 MB/s\u001b[0m eta \u001b[36m0:00:00\u001b[0m\n",
            "\u001b[?25hCollecting aiosignal>=1.1.2 (from aiohttp->openai)\n",
            "  Downloading aiosignal-1.3.1-py3-none-any.whl (7.6 kB)\n",
            "Installing collected packages: multidict, frozenlist, async-timeout, yarl, aiosignal, aiohttp, openai\n",
            "Successfully installed aiohttp-3.8.4 aiosignal-1.3.1 async-timeout-4.0.2 frozenlist-1.3.3 multidict-6.0.4 openai-0.27.7 yarl-1.9.2\n",
            "Looking in indexes: https://pypi.org/simple, https://us-python.pkg.dev/colab-wheels/public/simple/\n",
            "Collecting python-dotenv\n",
            "  Downloading python_dotenv-1.0.0-py3-none-any.whl (19 kB)\n",
            "Installing collected packages: python-dotenv\n",
            "Successfully installed python-dotenv-1.0.0\n"
          ]
        }
      ]
    },
    {
      "cell_type": "code",
      "execution_count": 6,
      "metadata": {
        "id": "3skPJ_eZQFoa"
      },
      "outputs": [],
      "source": [
        "import openai\n",
        "import os\n",
        "\n",
        "from dotenv import load_dotenv, find_dotenv\n",
        "\n",
        "# Carregar variáveis de ambiente de um arquivo .env\n",
        "_ = load_dotenv(find_dotenv())\n",
        "\n",
        "# Definir a chave de API\n",
        "openai.api_key = \"sk-\"\n",
        "#openai.api_key  = os.getenv('OPENAI_API_KEY')"
      ]
    },
    {
      "cell_type": "code",
      "source": [
        "def get_completion(prompt, model=\"gpt-3.5-turbo\"):\n",
        "    messages = [{\"role\": \"user\", \"content\": prompt}]\n",
        "    response = openai.ChatCompletion.create(\n",
        "        model=model,\n",
        "        messages=messages,\n",
        "        temperature=0.0, # grau de aleatoriedade da saída do modelo\n",
        "    )\n",
        "    return response.choices[0].message[\"content\"]"
      ],
      "metadata": {
        "id": "FVkai7Y2QwoE"
      },
      "execution_count": 7,
      "outputs": []
    },
    {
      "cell_type": "markdown",
      "source": [
        "**Gere uma descrição de produto de marketing a partir de uma ficha técnica do produto**"
      ],
      "metadata": {
        "id": "59ms_z9pQ7Ak"
      }
    },
    {
      "cell_type": "code",
      "source": [
        "fact_sheet_chair = \"\"\"\n",
        "VISÃO GERAL\n",
        "- Parte de uma bela família de móveis para escritório inspiradosno no estilo do meio século,\n",
        "incluindo armários de arquivo, mesas, estantes, mesas de reunião e muito mais.   \n",
        "- Várias opções de cor do casco e acabamentos da base.\n",
        "- Disponível com estofamento traseiro e dianteiro de plástico (SWC-100)\n",
        "ou estofamento completo (SWC-110) em 10 opções de tecido e 6 opções de couro.\n",
        "- As opções de acabamento da base são: aço inox, preto fosco,\n",
        "branco brilhante ou cromado.\n",
        "- A cadeira está disponível com ou sem braços.\n",
        "- Adequado para ambientes domésticos ou empresariais.\n",
        "- Qualificado para uso contratual.\n",
        "\n",
        "CONSTRUÇÃO\n",
        "- Base de 5 rodas em alumínio plastificado.\n",
        "- Ajuste pneumático da cadeira para facilitar a ação de levantar/descer.\n",
        "\n",
        "DIMENSÕES\n",
        "- LARGURA 53 CM | 20,87\"\n",
        "- PROFUNDIDADE 51 CM | 20.08”\n",
        "- ALTURA 80 CM | 31,50”\n",
        "- ALTURA DO ASSENTO 44 CM | 17,32\"\n",
        "- PROFUNDIDADE DO ASSENTO 41 CM | 16,14\"\n",
        "\n",
        "OPÇÕES\n",
        "- Opções de rodízios para piso macio ou duro.\n",
        "- Duas opções de densidades de espuma do assento:\n",
        "  médio (1,8 lb/ft3) ou alto (2,8 lb/ft3).\n",
        "- Apoios de braço sem ou com 8 posições em PU.\n",
        "\n",
        "MATERIAIS\n",
        "CASCO BASE DESLIZANTE\n",
        "- Alumínio fundido com revestimento de nylon modificado PA6/PA66.\n",
        "- Espessura da casca: 10 mm.\n",
        "ASSENTO\n",
        "- Espuma HD36\n",
        "\n",
        "PAÍS DE ORIGEM\n",
        "- Itália\n",
        "\"\"\""
      ],
      "metadata": {
        "id": "gHgqZm67ROM_"
      },
      "execution_count": 8,
      "outputs": []
    },
    {
      "cell_type": "code",
      "source": [
        "prompt = f\"\"\"\n",
        "Sua tarefa é ajudar uma equipe de marketing a criar um\n",
        "descrição para um site de varejo de um produto baseado\n",
        "em uma ficha técnica.\n",
        "\n",
        "Escreva uma descrição do produto com base nas informações\n",
        "prevista nas especificações técnicas delimitadas por \n",
        "por acentos triplos.\n",
        "\n",
        "Especificações técnicas: ```{fact_sheet_chair}```\n",
        "\"\"\"\n",
        "response = get_completion(prompt)\n",
        "print(response)\n"
      ],
      "metadata": {
        "id": "Yi0-nKkpRdu8",
        "colab": {
          "base_uri": "https://localhost:8080/"
        },
        "outputId": "7ccc26fe-7467-4560-89de-fb4d7b5fbdec"
      },
      "execution_count": 9,
      "outputs": [
        {
          "output_type": "stream",
          "name": "stdout",
          "text": [
            "Apresentamos a cadeira de escritório SWC, parte de uma bela família de móveis inspirados no estilo do meio século. Com várias opções de cor do casco e acabamentos da base, a SWC está disponível com estofamento traseiro e dianteiro de plástico ou estofamento completo em 10 opções de tecido e 6 opções de couro. A cadeira está disponível com ou sem braços e é adequada para ambientes domésticos ou empresariais, sendo qualificada para uso contratual. \n",
            "\n",
            "A construção da SWC apresenta uma base de 5 rodas em alumínio plastificado e ajuste pneumático da cadeira para facilitar a ação de levantar/descer. Suas dimensões são: largura de 53 cm, profundidade de 51 cm, altura de 80 cm e altura do assento de 44 cm. A profundidade do assento é de 41 cm. \n",
            "\n",
            "A SWC oferece opções de rodízios para piso macio ou duro, duas opções de densidades de espuma do assento (médio ou alto) e apoios de braço sem ou com 8 posições em PU. A casca base deslizante é feita de alumínio fundido com revestimento de nylon modificado PA6/PA66, com espessura de 10 mm. O assento é feito de espuma HD36. \n",
            "\n",
            "A SWC é fabricada na Itália e é a escolha perfeita para quem busca uma cadeira de escritório elegante e confortável.\n"
          ]
        }
      ]
    },
    {
      "cell_type": "markdown",
      "source": [
        "**Problema 1: O texto é muito longo**\n",
        "* Limite o número de palavras/frases/caracteres."
      ],
      "metadata": {
        "id": "-mF4cWOnRtFI"
      }
    },
    {
      "cell_type": "code",
      "source": [
        "prompt = f\"\"\"\n",
        "Sua tarefa é ajudar uma equipe de marketing a criar um\n",
        "descrição para um site de varejo de um produto baseado\n",
        "em uma ficha técnica.\n",
        "\n",
        "Escreva uma descrição do produto com base nas informações\n",
        "prevista nas especificações técnicas delimitadas por\n",
        "por acentos triplos.\n",
        "\n",
        "Use no máximo 50 palavras.\n",
        "\n",
        "Especificações técnicas: ```{fact_sheet_chair}```\n",
        "\"\"\"\n",
        "response = get_completion(prompt)\n",
        "print(response)\n"
      ],
      "metadata": {
        "id": "CYI01A8dR1Io",
        "colab": {
          "base_uri": "https://localhost:8080/"
        },
        "outputId": "5e99f26b-4f4c-4e3f-b96b-5155deac3d89"
      },
      "execution_count": 11,
      "outputs": [
        {
          "output_type": "stream",
          "name": "stdout",
          "text": [
            "A cadeira de escritório SWC é parte de uma bela família de móveis inspirados no estilo do meio século. Com várias opções de cor e acabamento, a cadeira está disponível com ou sem braços e pode ser estofada em plástico ou tecido/couro. Ajuste pneumático e rodízios opcionais tornam a cadeira adequada para uso doméstico ou empresarial. Fabricada na Itália.\n"
          ]
        }
      ]
    },
    {
      "cell_type": "code",
      "source": [
        "len(response)"
      ],
      "metadata": {
        "id": "4EpQlEilR9DR",
        "colab": {
          "base_uri": "https://localhost:8080/"
        },
        "outputId": "39569ff3-6f05-4d84-994b-4d45e47de112"
      },
      "execution_count": 12,
      "outputs": [
        {
          "output_type": "execute_result",
          "data": {
            "text/plain": [
              "355"
            ]
          },
          "metadata": {},
          "execution_count": 12
        }
      ]
    },
    {
      "cell_type": "markdown",
      "source": [
        "**Problema 2. O texto foca nos detalhes errados**\n",
        "* Peça-lhe para se concentrar nos aspectos que são relevantes para o público-alvo."
      ],
      "metadata": {
        "id": "ZbnwlR12R9-Z"
      }
    },
    {
      "cell_type": "code",
      "source": [
        "prompt = f\"\"\"\n",
        "Sua tarefa é ajudar uma equipe de marketing a criar uma\n",
        "descrição para um site de varejo de um produto baseado\n",
        "em uma ficha técnica.\n",
        "\n",
        "Escreva uma descrição do produto com base nas informações fornecidas nas especificações técnicas delimitadas por acentos triplos.\n",
        "\n",
        "A descrição é destinada a varejistas de móveis,\n",
        "portanto, deve ser de natureza técnica e focar nos\n",
        "materiais com os quais o produto é construído.\n",
        "\n",
        "Use no máximo 50 palavras.\n",
        "\n",
        "Especificações técnicas: ```{fact_sheet_chair}```\n",
        "\"\"\"\n",
        "response = get_completion(prompt)\n",
        "print(response)"
      ],
      "metadata": {
        "id": "lXMdfv5HSH_h",
        "colab": {
          "base_uri": "https://localhost:8080/"
        },
        "outputId": "4302a2e5-4a13-4df2-d78c-272d5d6b0152"
      },
      "execution_count": 13,
      "outputs": [
        {
          "output_type": "stream",
          "name": "stdout",
          "text": [
            "A cadeira de escritório SWC é parte de uma família de móveis inspirados no estilo do meio século. Com várias opções de cor e acabamento da base, a cadeira está disponível com ou sem braços e pode ser estofada em plástico ou tecido/couro. A base de 5 rodas em alumínio plastificado possui ajuste pneumático para facilitar a ação de levantar/descer. Adequada para ambientes domésticos ou empresariais, a cadeira é qualificada para uso contratual. Fabricada na Itália.\n"
          ]
        }
      ]
    },
    {
      "cell_type": "code",
      "source": [
        "prompt = f\"\"\"\n",
        "Sua tarefa é ajudar uma equipe de marketing a criar um\n",
        "descrição para um site de varejo de um produto baseado\n",
        "em uma ficha técnica.\n",
        "\n",
        "Escreva uma descrição do produto com base nas informações\n",
        "previstas nas especificações técnicas delimitadas por acentos triplos.\n",
        "\n",
        "A descrição é destinada a varejistas de móveis,\n",
        "portanto, deve ser de natureza técnica e focar no\n",
        "materiais com os quais o produto é construído.\n",
        "\n",
        "No final da descrição, inclua todos os 7 caracteres\n",
        "ID do produto na especificação técnica.\n",
        "\n",
        "Use no máximo 50 palavras.\n",
        "\n",
        "Especificações técnicas: ```{fact_sheet_chair}```\n",
        "\"\"\"\n",
        "response = get_completion(prompt)\n",
        "print(response)"
      ],
      "metadata": {
        "id": "SCYBi-eYS7Lm",
        "colab": {
          "base_uri": "https://localhost:8080/"
        },
        "outputId": "62960138-f0cf-4f80-ff34-0eaa6d01bad2"
      },
      "execution_count": 14,
      "outputs": [
        {
          "output_type": "stream",
          "name": "stdout",
          "text": [
            "A cadeira de escritório SWC é parte de uma família de móveis inspirados no estilo do meio século. Com várias opções de cor e acabamento da base, a cadeira está disponível com ou sem braços e com estofamento traseiro e dianteiro de plástico ou completo em tecido ou couro. A base de 5 rodas em alumínio plastificado e o ajuste pneumático facilitam a ação de levantar/descer. As opções de rodízios, densidades de espuma do assento e apoios de braço estão disponíveis. ID do produto: SWC-100/SWC-110. País de origem: Itália.\n"
          ]
        }
      ]
    },
    {
      "cell_type": "markdown",
      "source": [
        "**Problema 3. A descrição precisa de uma tabela de dimensões**\n",
        "* Peça-lhe para extrair informações e organizá-las em uma tabela."
      ],
      "metadata": {
        "id": "k8mpCptDTSFE"
      }
    },
    {
      "cell_type": "code",
      "source": [
        "prompt = f\"\"\"\n",
        "Sua tarefa é ajudar uma equipe de marketing a criar um\n",
        "descrição para um site de varejo de um produto baseado\n",
        "em uma ficha técnica.\n",
        "\n",
        "Escreva uma descrição do produto com base nas informações\n",
        "previstas nas especificações técnicas delimitadas por\n",
        "por acentos triplos.\n",
        "\n",
        "A descrição é destinada a varejistas de móveis,\n",
        "portanto, deve ser de natureza técnica e focar no\n",
        "materiais com os quais o produto é construído.\n",
        "\n",
        "No final da descrição, inclua todos os 7 caracteres\n",
        "ID do produto na especificação técnica.\n",
        "\n",
        "Após a descrição, inclua uma tabela que dê as\n",
        "dimensões do produto. A tabela deve ter duas colunas.\n",
        "Na primeira coluna inclua o nome da dimensão.\n",
        "Na segunda coluna inclua apenas as medidas em polegadas.\n",
        "\n",
        "Dê à tabela o título 'Dimensões do produto'.\n",
        "\n",
        "Formate tudo como HTML que pode ser usado em um site.\n",
        "Coloque a descrição em um elemento <div>.\n",
        "\n",
        "Especificações técnicas: ```{fact_sheet_chair}```\n",
        "\"\"\"\n",
        "\n",
        "response = get_completion(prompt)\n",
        "print(response)"
      ],
      "metadata": {
        "id": "tNDaqE4TTl77",
        "colab": {
          "base_uri": "https://localhost:8080/"
        },
        "outputId": "d4e9865f-3883-471c-8398-aff386f673fd"
      },
      "execution_count": 15,
      "outputs": [
        {
          "output_type": "stream",
          "name": "stdout",
          "text": [
            "<div>\n",
            "  <h2>Cadeira de Escritório SWC-100</h2>\n",
            "  <p>A cadeira de escritório SWC-100 é parte de uma bela família de móveis para escritório inspirados no estilo do meio século. Com várias opções de cor do casco e acabamentos da base, esta cadeira está disponível com estofamento traseiro e dianteiro de plástico ou estofamento completo em 10 opções de tecido e 6 opções de couro. A cadeira está disponível com ou sem braços e é adequada para ambientes domésticos ou empresariais. Além disso, é qualificada para uso contratual.</p>\n",
            "  <p>A base de 5 rodas em alumínio plastificado e o ajuste pneumático da cadeira facilitam a ação de levantar/descer. As opções de acabamento da base são: aço inox, preto fosco, branco brilhante ou cromado. Opções de rodízios para piso macio ou duro e duas opções de densidades de espuma do assento: médio (1,8 lb/ft3) ou alto (2,8 lb/ft3). Os apoios de braço estão disponíveis sem ou com 8 posições em PU.</p>\n",
            "  <p>Feita com materiais de alta qualidade, a cadeira SWC-100 tem uma espessura de casca de 10 mm em alumínio fundido com revestimento de nylon modificado PA6/PA66. O assento é feito de espuma HD36.</p>\n",
            "  <p>País de origem: Itália</p>\n",
            "  <table>\n",
            "    <caption>Dimensões do produto</caption>\n",
            "    <tr>\n",
            "      <th>Dimensão</th>\n",
            "      <th>Medida (polegadas)</th>\n",
            "    </tr>\n",
            "    <tr>\n",
            "      <td>Largura</td>\n",
            "      <td>20,87\"</td>\n",
            "    </tr>\n",
            "    <tr>\n",
            "      <td>Profundidade</td>\n",
            "      <td>20,08\"</td>\n",
            "    </tr>\n",
            "    <tr>\n",
            "      <td>Altura</td>\n",
            "      <td>31,50\"</td>\n",
            "    </tr>\n",
            "    <tr>\n",
            "      <td>Altura do assento</td>\n",
            "      <td>17,32\"</td>\n",
            "    </tr>\n",
            "    <tr>\n",
            "      <td>Profundidade do assento</td>\n",
            "      <td>16,14\"</td>\n",
            "    </tr>\n",
            "  </table>\n",
            "</div>\n",
            "\n",
            "<p>ID do produto: SWC-100</p>\n"
          ]
        }
      ]
    },
    {
      "cell_type": "markdown",
      "source": [
        "**Carregar bibliotecas Python para visualizar HTML**"
      ],
      "metadata": {
        "id": "z6ObJM8bUEiR"
      }
    },
    {
      "cell_type": "code",
      "source": [
        "from IPython.display import display, HTML"
      ],
      "metadata": {
        "id": "_4cFTkmNULxj"
      },
      "execution_count": 16,
      "outputs": []
    },
    {
      "cell_type": "code",
      "source": [
        "display(HTML(response))"
      ],
      "metadata": {
        "id": "MRQxz1m4UNh5",
        "colab": {
          "base_uri": "https://localhost:8080/",
          "height": 424
        },
        "outputId": "9ae77d4b-51c7-45dc-a5f3-4f83310e8078"
      },
      "execution_count": 17,
      "outputs": [
        {
          "output_type": "display_data",
          "data": {
            "text/plain": [
              "<IPython.core.display.HTML object>"
            ],
            "text/html": [
              "<div>\n",
              "  <h2>Cadeira de Escritório SWC-100</h2>\n",
              "  <p>A cadeira de escritório SWC-100 é parte de uma bela família de móveis para escritório inspirados no estilo do meio século. Com várias opções de cor do casco e acabamentos da base, esta cadeira está disponível com estofamento traseiro e dianteiro de plástico ou estofamento completo em 10 opções de tecido e 6 opções de couro. A cadeira está disponível com ou sem braços e é adequada para ambientes domésticos ou empresariais. Além disso, é qualificada para uso contratual.</p>\n",
              "  <p>A base de 5 rodas em alumínio plastificado e o ajuste pneumático da cadeira facilitam a ação de levantar/descer. As opções de acabamento da base são: aço inox, preto fosco, branco brilhante ou cromado. Opções de rodízios para piso macio ou duro e duas opções de densidades de espuma do assento: médio (1,8 lb/ft3) ou alto (2,8 lb/ft3). Os apoios de braço estão disponíveis sem ou com 8 posições em PU.</p>\n",
              "  <p>Feita com materiais de alta qualidade, a cadeira SWC-100 tem uma espessura de casca de 10 mm em alumínio fundido com revestimento de nylon modificado PA6/PA66. O assento é feito de espuma HD36.</p>\n",
              "  <p>País de origem: Itália</p>\n",
              "  <table>\n",
              "    <caption>Dimensões do produto</caption>\n",
              "    <tr>\n",
              "      <th>Dimensão</th>\n",
              "      <th>Medida (polegadas)</th>\n",
              "    </tr>\n",
              "    <tr>\n",
              "      <td>Largura</td>\n",
              "      <td>20,87\"</td>\n",
              "    </tr>\n",
              "    <tr>\n",
              "      <td>Profundidade</td>\n",
              "      <td>20,08\"</td>\n",
              "    </tr>\n",
              "    <tr>\n",
              "      <td>Altura</td>\n",
              "      <td>31,50\"</td>\n",
              "    </tr>\n",
              "    <tr>\n",
              "      <td>Altura do assento</td>\n",
              "      <td>17,32\"</td>\n",
              "    </tr>\n",
              "    <tr>\n",
              "      <td>Profundidade do assento</td>\n",
              "      <td>16,14\"</td>\n",
              "    </tr>\n",
              "  </table>\n",
              "</div>\n",
              "\n",
              "<p>ID do produto: SWC-100</p>"
            ]
          },
          "metadata": {}
        }
      ]
    },
    {
      "cell_type": "markdown",
      "source": [
        "**Tente experimentar por conta própria!**"
      ],
      "metadata": {
        "id": "aJ6oReG-USs1"
      }
    },
    {
      "cell_type": "markdown",
      "source": [
        "**Gere uma descrição de produto de marketing a partir de uma ficha técnica do produto**"
      ],
      "metadata": {
        "id": "OkaZvcc8VjRA"
      }
    },
    {
      "cell_type": "code",
      "source": [
        "fact_sheet_smartphone = \"\"\"\n",
        "VISÃO GERAL\n",
        "- O Smartphone XYZ (XYZ-735) oferece uma experiência incrível com seu design elegante e recursos avançados.\n",
        "- Tela de alta resolução de 6.4 polegadas para visualização imersiva de conteúdo.\n",
        "- Processador de última geração para desempenho rápido e eficiente.\n",
        "- Câmera traseira de 48 MP para capturar fotos nítidas e vívidas.\n",
        "- Armazenamento interno de 128 GB para guardar todos os seus arquivos e aplicativos.\n",
        "- Bateria de longa duração para acompanhar o seu dia a dia.\n",
        "- Conectividade 5G para navegação rápida e streaming sem interrupções.\n",
        "\n",
        "ESPECIFICAÇÕES\n",
        "- Tela: 6.4 polegadas, AMOLED, resolução 1080x2340 pixels\n",
        "- Processador: Octa-core, 2.8 GHz\n",
        "- Câmera Traseira: 48 MP (principal), 8 MP (ultra wide), 2 MP (profundidade)\n",
        "- Câmera Frontal: 20 MP\n",
        "- Armazenamento: 128 GB\n",
        "- Bateria: 4000 mAh\n",
        "- Conectividade: 5G, Wi-Fi 802.11ac, Bluetooth 5.0\n",
        "- Sistema Operacional: Android 12\n",
        "- Cores Disponíveis: Preto, Azul, Branco\n",
        "- Dimensões: 6.2 x 3.0 x 0.3 polegadas\n",
        "\"\"\""
      ],
      "metadata": {
        "id": "O4gH3PUWUSUY"
      },
      "execution_count": 22,
      "outputs": []
    },
    {
      "cell_type": "code",
      "source": [
        "prompt = f\"\"\"\n",
        "\n",
        "    Sua tarefa é ajudar uma equipe de marketing a criar uma descrição para um site de varejo de um produto baseado em uma ficha técnica.\n",
        "    Escreva uma descrição do produto com base nas informações fornecidas nas especificações técnicas delimitadas por acentos triplos.\n",
        "    A descrição é destinada a varejistas de eletrônicos, portanto, deve ser de natureza técnica e focar nos recursos avançados do produto.\n",
        "    No final da descrição, inclua todos os 7 caracteres do ID do produto fornecidos na especificação técnica.\n",
        "\n",
        "    Especificações técnicas: ```{fact_sheet_smartphone}```\n",
        "    \"\"\"\n",
        "\n",
        "response = get_completion(prompt)\n",
        "print(response)"
      ],
      "metadata": {
        "colab": {
          "base_uri": "https://localhost:8080/"
        },
        "id": "1-MYpvMTV55d",
        "outputId": "49ad67b9-cb9b-4c42-9bb6-048e6262ec93"
      },
      "execution_count": 23,
      "outputs": [
        {
          "output_type": "stream",
          "name": "stdout",
          "text": [
            "O Smartphone XYZ (XYZ-735) é o dispositivo perfeito para quem busca uma experiência incrível em um design elegante e moderno. Com uma tela de alta resolução de 6.4 polegadas, você pode desfrutar de uma visualização imersiva de conteúdo. O processador de última geração garante um desempenho rápido e eficiente, permitindo que você execute várias tarefas simultaneamente sem problemas.\n",
            "\n",
            "A câmera traseira de 48 MP é capaz de capturar fotos nítidas e vívidas, enquanto a câmera frontal de 20 MP é perfeita para selfies e chamadas de vídeo. Com 128 GB de armazenamento interno, você pode guardar todos os seus arquivos e aplicativos sem se preocupar com espaço insuficiente. A bateria de longa duração permite que você use o dispositivo o dia todo sem precisar recarregar.\n",
            "\n",
            "Com conectividade 5G, você pode navegar na internet e fazer streaming sem interrupções. O Smartphone XYZ (XYZ-735) também possui Wi-Fi 802.11ac e Bluetooth 5.0 para conectividade sem fio. O sistema operacional Android 12 oferece uma experiência de usuário intuitiva e personalizável. Disponível nas cores preto, azul e branco, o Smartphone XYZ (XYZ-735) tem dimensões de 6.2 x 3.0 x 0.3 polegadas.\n",
            "\n",
            "ID do produto: XYZ-735\n"
          ]
        }
      ]
    },
    {
      "cell_type": "markdown",
      "source": [
        "**Problema 1: O texto é muito longo**\n",
        "* Limite o número de palavras/frases/caracteres."
      ],
      "metadata": {
        "id": "jVxMAOpHZSoX"
      }
    },
    {
      "cell_type": "code",
      "source": [
        "prompt = f\"\"\"\n",
        "    Sua tarefa é ajudar uma equipe de marketing a criar uma descrição para um site de varejo de um produto baseado em uma ficha técnica.\n",
        "    Escreva uma descrição do produto com base nas informações fornecidas nas especificações técnicas delimitadas por acentos triplos.\n",
        "    No final da descrição, inclua todos os 7 caracteres do ID do produto fornecidos na especificação técnica.\n",
        "\n",
        "    Use no máximo 50 palavras.\n",
        "\n",
        "    Especificações técnicas: ```{fact_sheet_smartphone}```\n",
        "    \"\"\"\n",
        "\n",
        "response = get_completion(prompt)\n",
        "print(response)"
      ],
      "metadata": {
        "colab": {
          "base_uri": "https://localhost:8080/"
        },
        "id": "i6wBx0qRZJfb",
        "outputId": "620e2da8-626b-426c-cd96-2bd4c1fc99d7"
      },
      "execution_count": 27,
      "outputs": [
        {
          "output_type": "stream",
          "name": "stdout",
          "text": [
            "O Smartphone XYZ (XYZ-735) oferece uma experiência incrível com sua tela de alta resolução de 6.4 polegadas e processador de última geração. Capture fotos nítidas e vívidas com a câmera traseira de 48 MP e armazene tudo em seus 128 GB de armazenamento interno. Com conectividade 5G e bateria de longa duração, este smartphone é perfeito para acompanhar o seu dia a dia. Disponível nas cores preto, azul e branco. (ID do produto: XYZ-735)\n"
          ]
        }
      ]
    },
    {
      "cell_type": "markdown",
      "source": [
        "**Problema 2. O texto foca nos detalhes errados**\n",
        "* Peça-lhe para se concentrar nos aspectos que são relevantes para o público-alvo."
      ],
      "metadata": {
        "id": "itY2OBWrbBBF"
      }
    },
    {
      "cell_type": "code",
      "source": [
        "prompt = f\"\"\"\n",
        "    Sua tarefa é ajudar uma equipe de marketing a criar uma descrição para um site de varejo de um produto baseado em uma ficha técnica.\n",
        "    Escreva uma descrição do produto com base nas informações fornecidas nas especificações técnicas delimitadas por acentos triplos.\n",
        "    A descrição é destinada a varejistas de eletrônicos, portanto, deve ser de natureza técnica e focar nos recursos avançados do produto, como a câmera de alta resolução, o processador de última geração e a conectividade 5G.\n",
        "    No final da descrição, inclua todos os 7 caracteres do ID do produto fornecidos na especificação técnica.\n",
        "\n",
        "    Use no máximo 50 palavras.\n",
        "\n",
        "    Especificações técnicas: ```{fact_sheet_smartphone}```\n",
        "    \"\"\"\n",
        "\n",
        "response = get_completion(prompt)\n",
        "print(response)"
      ],
      "metadata": {
        "colab": {
          "base_uri": "https://localhost:8080/"
        },
        "outputId": "42e346d0-258b-4740-dd74-a328c9891850",
        "id": "iMqMsmfgcQrb"
      },
      "execution_count": 28,
      "outputs": [
        {
          "output_type": "stream",
          "name": "stdout",
          "text": [
            "O Smartphone XYZ (XYZ-735) oferece uma experiência incrível com sua tela AMOLED de alta resolução de 6.4 polegadas, processador octa-core de 2.8 GHz e conectividade 5G. Capture fotos nítidas e vívidas com a câmera traseira de 48 MP e armazene tudo em 128 GB de armazenamento interno. A bateria de longa duração garante que você possa aproveitar tudo isso o dia todo. Disponível em preto, azul e branco. (ID do produto: XYZ-735)\n"
          ]
        }
      ]
    },
    {
      "cell_type": "markdown",
      "source": [
        "**Problema 3. A descrição precisa de uma tabela de dimensões**\n",
        "* Peça-lhe para extrair informações e organizá-las em uma tabela."
      ],
      "metadata": {
        "id": "xwcdUpAodHep"
      }
    },
    {
      "cell_type": "code",
      "source": [
        "prompt = f\"\"\"\n",
        "    \n",
        "Sua tarefa é ajudar uma equipe de marketing a criar uma descrição para um site de varejo de um produto baseado em uma ficha técnica.\n",
        "\n",
        "Escreva uma descrição do produto com base nas informações fornecidas nas especificações técnicas delimitadas por acentos triplos.\n",
        "\n",
        "A descrição é destinada a varejistas de eletrônicos, portanto, deve ser de natureza técnica e focar nos recursos avançados do produto, como a câmera de alta resolução, o processador de última geração e a conectividade 5G.\n",
        "\n",
        "No final da descrição, inclua todos os 7 caracteres do ID do produto fornecidos na especificação técnica.\n",
        "\n",
        "Após a descrição, inclua uma tabela que dê as dimensões do produto. A tabela deve ter duas colunas. Na primeira coluna inclua o nome da dimensão. Na segunda coluna inclua apenas as medidas em polegadas.\n",
        "\n",
        "Dê à tabela o título 'Dimensões do produto' em negrito.\n",
        "\n",
        "Formate tudo como HTML que pode ser usado em um site. Coloque a descrição em um elemento <div>.\n",
        "\n",
        "Especificações técnicas: ```{fact_sheet_smartphone}```\n",
        "\"\"\"\n",
        "\n",
        "response = get_completion(prompt)\n",
        "print(response)"
      ],
      "metadata": {
        "colab": {
          "base_uri": "https://localhost:8080/"
        },
        "outputId": "360e49a3-e517-41ed-da74-7d9254acf51c",
        "id": "YsaSTZfJdHfH"
      },
      "execution_count": 31,
      "outputs": [
        {
          "output_type": "stream",
          "name": "stdout",
          "text": [
            "<div>\n",
            "<h2>Smartphone XYZ (XYZ-735)</h2>\n",
            "<p>O Smartphone XYZ (XYZ-735) oferece uma experiência incrível com seu design elegante e recursos avançados. Com uma tela de alta resolução de 6.4 polegadas, você terá uma visualização imersiva de conteúdo. O processador de última geração garante desempenho rápido e eficiente, enquanto a câmera traseira de 48 MP permite capturar fotos nítidas e vívidas. Com armazenamento interno de 128 GB, você pode guardar todos os seus arquivos e aplicativos. A bateria de longa duração acompanha o seu dia a dia e a conectividade 5G permite navegação rápida e streaming sem interrupções.</p>\n",
            "<p>Com o Smartphone XYZ (XYZ-735), você terá um dispositivo de alta qualidade com recursos avançados para atender às suas necessidades diárias.</p>\n",
            "<p>ID do produto: XYZ-735</p>\n",
            "</div>\n",
            "\n",
            "<table>\n",
            "  <caption><strong>Dimensões do produto</strong></caption>\n",
            "  <tr>\n",
            "    <th>Altura</th>\n",
            "    <td>6.2 polegadas</td>\n",
            "  </tr>\n",
            "  <tr>\n",
            "    <th>Largura</th>\n",
            "    <td>3.0 polegadas</td>\n",
            "  </tr>\n",
            "  <tr>\n",
            "    <th>Profundidade</th>\n",
            "    <td>0.3 polegadas</td>\n",
            "  </tr>\n",
            "</table>\n"
          ]
        }
      ]
    },
    {
      "cell_type": "code",
      "source": [
        "display(HTML(response))"
      ],
      "metadata": {
        "colab": {
          "base_uri": "https://localhost:8080/",
          "height": 272
        },
        "outputId": "72ec1d63-a45f-45bb-d349-6d53795389e4",
        "id": "JcFiP8HsfQGR"
      },
      "execution_count": 32,
      "outputs": [
        {
          "output_type": "display_data",
          "data": {
            "text/plain": [
              "<IPython.core.display.HTML object>"
            ],
            "text/html": [
              "<div>\n",
              "<h2>Smartphone XYZ (XYZ-735)</h2>\n",
              "<p>O Smartphone XYZ (XYZ-735) oferece uma experiência incrível com seu design elegante e recursos avançados. Com uma tela de alta resolução de 6.4 polegadas, você terá uma visualização imersiva de conteúdo. O processador de última geração garante desempenho rápido e eficiente, enquanto a câmera traseira de 48 MP permite capturar fotos nítidas e vívidas. Com armazenamento interno de 128 GB, você pode guardar todos os seus arquivos e aplicativos. A bateria de longa duração acompanha o seu dia a dia e a conectividade 5G permite navegação rápida e streaming sem interrupções.</p>\n",
              "<p>Com o Smartphone XYZ (XYZ-735), você terá um dispositivo de alta qualidade com recursos avançados para atender às suas necessidades diárias.</p>\n",
              "<p>ID do produto: XYZ-735</p>\n",
              "</div>\n",
              "\n",
              "<table>\n",
              "  <caption><strong>Dimensões do produto</strong></caption>\n",
              "  <tr>\n",
              "    <th>Altura</th>\n",
              "    <td>6.2 polegadas</td>\n",
              "  </tr>\n",
              "  <tr>\n",
              "    <th>Largura</th>\n",
              "    <td>3.0 polegadas</td>\n",
              "  </tr>\n",
              "  <tr>\n",
              "    <th>Profundidade</th>\n",
              "    <td>0.3 polegadas</td>\n",
              "  </tr>\n",
              "</table>"
            ]
          },
          "metadata": {}
        }
      ]
    }
  ]
}